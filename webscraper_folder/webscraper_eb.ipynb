{
 "cells": [
  {
   "cell_type": "markdown",
   "metadata": {},
   "source": [
    "<h1 style=\"color:dimgray\">\n",
    "    <i>    \n",
    "    Cryptocurrency webscraping - Edward Blair\n",
    "    </i>\n",
    "</h1>"
   ]
  },
  {
   "cell_type": "markdown",
   "metadata": {},
   "source": [
    "Please read and complete [this cell](#important-cell) before running anything. Once complete, the cells can be run chronologically from the top to produce a result"
   ]
  },
  {
   "cell_type": "markdown",
   "metadata": {},
   "source": [
    "## Necessary imports:\n",
    "***"
   ]
  },
  {
   "cell_type": "code",
   "execution_count": null,
   "metadata": {},
   "outputs": [],
   "source": [
    "import itertools\n",
    "import praw\n",
    "import collections\n",
    "from operator import itemgetter\n",
    "import seaborn as sns\n",
    "import matplotlib.pyplot as plt"
   ]
  },
  {
   "cell_type": "markdown",
   "metadata": {},
   "source": [
    "<a id='important-cell'></a>\n",
    "## *Important* - What you need to do:\n",
    "***\n",
    "- In order to use PRAW, you require a **Reddit instance** provided with a ```client_id```, ```client_secret``` and ```user_agent```\n",
    "- Firstly, navigate to [This page](https://www.reddit.com/prefs/apps) and click **create app** or **create another app**:\n",
    "\n",
    "<img src=\"ScraperTutorial1.png\" width=\"850\" height=\"350\">\n",
    "\n",
    "- Once clicked, a form will open up. Fill in a name, description and redirect UI. for the redirect UI, choose ```http://localhost:8080```:\n",
    "\n",
    "<img src=\"ScraperTutorial2.png\" width=\"850\" height=\"350\">\n",
    "\n",
    "- Once you press **create app** a new application appears. Within this you find the information needed to edit the ```praw.Reddit``` instance:\n",
    "\n",
    "<img src=\"ScraperTutorial3.png\" width=\"850\" height=\"350\">\n",
    "\n",
    "## Edit _the below cell_ to contain your specific client_id, client_secret and user_agent:"
   ]
  },
  {
   "cell_type": "code",
   "execution_count": null,
   "metadata": {},
   "outputs": [],
   "source": [
    "reddit = praw.Reddit(client_id = '[YOUR_CLIENT_ID_HERE]', client_secret = '[YOUR_CLIENT_SECRET_HERE]', user_agent = '[YOUR_USER_AGENT_HERE]')"
   ]
  },
  {
   "cell_type": "markdown",
   "metadata": {},
   "source": [
    "## After running the above cells, the below cells can now be run to produce the graph:\n",
    "***"
   ]
  },
  {
   "cell_type": "code",
   "execution_count": null,
   "metadata": {},
   "outputs": [],
   "source": [
    "def get_top_dollar_posts(reddit, subreddit, numHotPosts=350, returnNum=10):\n",
    "    hot_posts = reddit.subreddit(subreddit).hot(limit=numHotPosts)\n",
    "    \n",
    "    # Title's of hot_posts are type <class 'str'>\n",
    "    # split() the title String into a list - each word is list item\n",
    "    title_list = [post.title.split() for post in hot_posts]\n",
    "    \n",
    "    # Flatten list fully\n",
    "    final_list = [item for row in title_list for item in row]\n",
    "    \n",
    "    # occurrences - a count of how many times each item appears in the list\n",
    "    occurrences = collections.Counter(final_list)\n",
    "    \n",
    "    # Separate wheat from chaff - removal of words from titles which do not begin with $\n",
    "    # Post titles precede ticker symbols of cryptocurrencies with '$' e.g. '$BTC'\n",
    "    filtered_occurrences = {k: v for k, v in occurrences.items() if k.startswith('$')}\n",
    "    \n",
    "    # Take the n most frequently occurring items of the dict, put them into a new dict\n",
    "    ordered_occurrences = sorted(filtered_occurrences.items(), key=itemgetter(1), reverse=True)\n",
    "    top_n_occurrences = dict(ordered_occurrences[:returnNum])\n",
    "    \n",
    "    return top_n_occurrences"
   ]
  },
  {
   "cell_type": "code",
   "execution_count": null,
   "metadata": {},
   "outputs": [],
   "source": [
    "#Choose number of hot posts to trawl through\n",
    "numHotPosts = 350\n",
    "\n",
    "top_ten_dict = get_top_dollar_posts(reddit, 'CryptoMoonShots', numHotPosts, 10)\n",
    "\n",
    "'''\n",
    "Graphing the top_ten_dict:\n",
    "x = name of crypto\n",
    "y = number of times it is mentioned\n",
    "'''\n",
    "#Resizing of the graph's x and y\n",
    "plt.rcParams['figure.figsize'] = [14, 6]\n",
    "\n",
    "keys = list(top_ten_dict.keys())\n",
    "#Acquire values in same order as the keys, parse the values\n",
    "vals = [float(top_ten_dict[k]) for k in keys]\n",
    "sns.barplot(x=keys, y=vals)\n",
    "plt.title(\"Top ten most frequently mentioned crypto names within the \" + str(numHotPosts) + \" current hottest posts on r/CryptoMoonShots\")\n",
    "plt.xlabel(\"Crypto name\")\n",
    "plt.ylabel(\"Number of mentions in post title\")\n",
    "plt.show()"
   ]
  },
  {
   "cell_type": "markdown",
   "metadata": {},
   "source": [
    "## Sources\n",
    "***\n",
    "- Inspiration for this webscraper as well as the tutorial material was drawn from: https://towardsdatascience.com/scraping-reddit-data-1c0af3040768"
   ]
  }
 ],
 "metadata": {
  "kernelspec": {
   "display_name": "Python 3",
   "language": "python",
   "name": "python3"
  },
  "language_info": {
   "codemirror_mode": {
    "name": "ipython",
    "version": 3
   },
   "file_extension": ".py",
   "mimetype": "text/x-python",
   "name": "python",
   "nbconvert_exporter": "python",
   "pygments_lexer": "ipython3",
   "version": "3.9.5"
  }
 },
 "nbformat": 4,
 "nbformat_minor": 4
}
